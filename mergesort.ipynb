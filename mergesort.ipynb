{
  "nbformat": 4,
  "nbformat_minor": 0,
  "metadata": {
    "colab": {
      "provenance": [],
      "authorship_tag": "ABX9TyPvrpu6JskwcxNNaQddu7Rz",
      "include_colab_link": true
    },
    "kernelspec": {
      "name": "python3",
      "display_name": "Python 3"
    },
    "language_info": {
      "name": "python"
    }
  },
  "cells": [
    {
      "cell_type": "markdown",
      "metadata": {
        "id": "view-in-github",
        "colab_type": "text"
      },
      "source": [
        "<a href=\"https://colab.research.google.com/github/ozgenurunlu/Patika.dev-Assignments/blob/main/mergesort.ipynb\" target=\"_parent\"><img src=\"https://colab.research.google.com/assets/colab-badge.svg\" alt=\"Open In Colab\"/></a>"
      ]
    },
    {
      "cell_type": "markdown",
      "source": [
        "#Project 2\n",
        "[16,21,11,8,12,22] ->\n",
        "1. Yukarıdaki dizinin merge sort türüne göre aşamalarını yazınız.\n",
        "2. Big-O gösterimini yazınız.\n",
        "\n",
        "**1.SORU ÇÖZÜM**\n",
        "\n",
        "\n",
        "---\n",
        "\n",
        "\n",
        "\n",
        "```\n",
        "[16,21,11,8,12,22]  \n",
        "     /       \\\n",
        "[16,21,11]  [8,12,22]\n",
        "  /    \\       /   \\\n",
        "[16]  [21,11] [8,12] [22]\n",
        " /     /   \\   /   \\   \\\n",
        "[16] [21] [11] [8] [12] [22]\n",
        "  \\     \\  /    \\  /    /\n",
        "  [16] [11,21] [8,12]  [22]\n",
        "     \\  /          \\  /\n",
        "  [11,16,21]     [8,12,22]\n",
        "            \\   /\n",
        "      [8,11,12,16,21,22]\n",
        "```\n",
        "\n",
        "\n",
        "\n",
        "**Merge Sort ile sıralanmış hali:**  \n",
        "[8,11,12,16,21,22]\n",
        "\n",
        "**2.SORU ÇÖZÜM**\n",
        "\n",
        "\n",
        "---\n",
        "\n",
        "**Big-O gösterimi:**\n",
        "\n",
        "O(nlogn)\n",
        "\n",
        "\n",
        "\n"
      ],
      "metadata": {
        "id": "4ep8o-7Z2-KU"
      }
    }
  ]
}