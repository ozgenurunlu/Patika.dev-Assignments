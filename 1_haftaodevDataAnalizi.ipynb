{
  "nbformat": 4,
  "nbformat_minor": 0,
  "metadata": {
    "colab": {
      "provenance": [],
      "authorship_tag": "ABX9TyMGiafMDm2qOKLjqBH/Lxgf",
      "include_colab_link": true
    },
    "kernelspec": {
      "name": "python3",
      "display_name": "Python 3"
    },
    "language_info": {
      "name": "python"
    }
  },
  "cells": [
    {
      "cell_type": "markdown",
      "metadata": {
        "id": "view-in-github",
        "colab_type": "text"
      },
      "source": [
        "<a href=\"https://colab.research.google.com/github/ozgenurunlu/Patika.dev-Assignments/blob/main/1_haftaodevDataAnalizi.ipynb\" target=\"_parent\"><img src=\"https://colab.research.google.com/assets/colab-badge.svg\" alt=\"Open In Colab\"/></a>"
      ]
    },
    {
      "cell_type": "code",
      "execution_count": null,
      "metadata": {
        "colab": {
          "base_uri": "https://localhost:8080/"
        },
        "id": "U7se4_dKpJk2",
        "outputId": "92824c7c-1547-4c87-d738-e84ce038f66a"
      },
      "outputs": [
        {
          "output_type": "stream",
          "name": "stdout",
          "text": [
            "-3\n",
            "sayı negatif: -3\n"
          ]
        }
      ],
      "source": [
        "x=int(input())\n",
        "if x<0:\n",
        "  print(\"sayı negatif:\", x)\n",
        "elif x>0:\n",
        "  print(\"Sayı pozitif:\", x)\n",
        "else:\n",
        "  print(\"sayı sıfır:\", x)"
      ]
    },
    {
      "cell_type": "code",
      "source": [
        "x=int(input())\n",
        "if x%2==0:\n",
        "  print(\"Çift sayı girdiniz\")\n",
        "else:\n",
        "  print(\"Tek sayı girdiniz\")"
      ],
      "metadata": {
        "colab": {
          "base_uri": "https://localhost:8080/"
        },
        "id": "Grp9tADTprCH",
        "outputId": "d63b74ad-30a6-4eb5-fbdc-a5dd6c05d0ae"
      },
      "execution_count": null,
      "outputs": [
        {
          "output_type": "stream",
          "name": "stdout",
          "text": [
            "4\n",
            "Çift sayı girdiniz\n"
          ]
        }
      ]
    },
    {
      "cell_type": "code",
      "source": [
        "puan=int(input())\n",
        "if puan>=90 and puan<=100:\n",
        "  print(\"AA\")\n",
        "elif puan>=80 and puan<90:\n",
        "  print(\"BA\")\n",
        "elif puan>=70 and puan<80:\n",
        "  print(\"BB\")\n",
        "elif puan>=60 and puan<70:\n",
        "  print(\"CB\")\n",
        "elif puan>=50 and puan<60:\n",
        "  print(\"CC\")\n",
        "elif puan>=45 and puan<50:\n",
        "  print(\"DC\")\n",
        "elif puan>=40 and puan<45:\n",
        "  print(\"DD\")\n",
        "else:\n",
        "  print(\"Geçme notu 40'ı alamadınız,kaldınız\")\n",
        "\n",
        "\n"
      ],
      "metadata": {
        "colab": {
          "base_uri": "https://localhost:8080/"
        },
        "id": "4j4wGgEHp6Ev",
        "outputId": "78120105-e6f6-4b51-a0ec-eaa29809145f"
      },
      "execution_count": null,
      "outputs": [
        {
          "output_type": "stream",
          "name": "stdout",
          "text": [
            "67\n",
            "CB\n"
          ]
        }
      ]
    },
    {
      "cell_type": "code",
      "source": [
        "isim=input()\n",
        "if len(isim)>5:\n",
        "  print(\"Uzun bir isminiz var\")\n",
        "else:\n",
        "  print(isim)"
      ],
      "metadata": {
        "colab": {
          "base_uri": "https://localhost:8080/"
        },
        "id": "eLBfb-1BraQK",
        "outputId": "34a5c095-d608-4ac9-f5b3-4350e7fca517"
      },
      "execution_count": null,
      "outputs": [
        {
          "output_type": "stream",
          "name": "stdout",
          "text": [
            "huseyin\n",
            "Uzun bir isminiz var\n"
          ]
        }
      ]
    },
    {
      "cell_type": "code",
      "source": [
        "sayi=int(input(\"Sayıyı Girin : \"))\n",
        "asalmi=True\n",
        "if sayi==1:\n",
        "  print(\"Asal değil\")\n",
        "else:\n",
        "  for i in range(2,sayi):\n",
        "\n",
        "    if sayi%i==0:\n",
        "      asalmi=False\n",
        "      break\n",
        "  if asalmi==True:\n",
        "   print(\"asal sayı\")\n",
        "  else:\n",
        "   print(\"Asal sayı değil\")\n",
        "\n",
        "\n",
        "\n"
      ],
      "metadata": {
        "colab": {
          "base_uri": "https://localhost:8080/"
        },
        "id": "gMBkWIkHrsIO",
        "outputId": "4e308f8d-3c5c-473f-da5b-584c85f6046d"
      },
      "execution_count": 61,
      "outputs": [
        {
          "output_type": "stream",
          "name": "stdout",
          "text": [
            "Sayıyı Girin : 43\n",
            "asal sayı\n"
          ]
        }
      ]
    },
    {
      "cell_type": "code",
      "source": [
        "sayi=int(input(\"Sayıyı Girin : \"))\n",
        "bolenler=0\n",
        "i=1\n",
        "while i<sayi+1:\n",
        "  if sayi%i==0:\n",
        "    bolenler+=1\n",
        "    if bolenler>2:\n",
        "      print(\"sayı asal değil\")\n",
        "      break\n",
        "  i+=1\n",
        "if bolenler==2:\n",
        "  print(\"Sayı asaldır\")\n",
        "\n"
      ],
      "metadata": {
        "id": "QVZqtE6VwpQR",
        "colab": {
          "base_uri": "https://localhost:8080/"
        },
        "outputId": "a71f43e9-0696-4b3a-949b-b87f950474e9"
      },
      "execution_count": 96,
      "outputs": [
        {
          "output_type": "stream",
          "name": "stdout",
          "text": [
            "Sayıyı Girin : 23\n",
            "Sayı asaldır\n"
          ]
        }
      ]
    },
    {
      "cell_type": "code",
      "source": [
        "notlar=[45,85,75,50]\n",
        "notlar.index(75)\n"
      ],
      "metadata": {
        "colab": {
          "base_uri": "https://localhost:8080/"
        },
        "id": "VOJ5wnskxL47",
        "outputId": "e58422a4-3ff6-4839-9883-27e0a7114828"
      },
      "execution_count": 109,
      "outputs": [
        {
          "output_type": "execute_result",
          "data": {
            "text/plain": [
              "2"
            ]
          },
          "metadata": {},
          "execution_count": 109
        }
      ]
    },
    {
      "cell_type": "code",
      "source": [
        "#faktoriyel-for\n",
        "x=int(input())\n",
        "fakt=1\n",
        "for i in range(1,x+1):\n",
        "  fakt*=i\n",
        "print(fakt)"
      ],
      "metadata": {
        "colab": {
          "base_uri": "https://localhost:8080/"
        },
        "id": "cBEkGoG10eSi",
        "outputId": "c342fd86-236b-4915-d923-6bdf7fdc316f"
      },
      "execution_count": null,
      "outputs": [
        {
          "output_type": "stream",
          "name": "stdout",
          "text": [
            "6\n",
            "720\n"
          ]
        }
      ]
    },
    {
      "cell_type": "code",
      "source": [
        "#faktoriyel-while\n",
        "x=int(input())\n",
        "fakt=1\n",
        "i=1\n",
        "while i<x+1:\n",
        "  fakt*=i\n",
        "  i+=1\n",
        "print(fakt)"
      ],
      "metadata": {
        "colab": {
          "base_uri": "https://localhost:8080/"
        },
        "id": "oEllDxlJ0aWU",
        "outputId": "a145b90e-62f8-4cce-a150-6b1a4d22fcaa"
      },
      "execution_count": null,
      "outputs": [
        {
          "output_type": "stream",
          "name": "stdout",
          "text": [
            "6\n",
            "720\n"
          ]
        }
      ]
    },
    {
      "cell_type": "code",
      "source": [
        "x=int(input())\n",
        "for i in range(100000):\n",
        "  if x>0:\n",
        "    print(\"uygun\")\n",
        "    break\n",
        "  else:\n",
        "    print(\"tekrar deneyiniz\")\n",
        "    x=int(input())"
      ],
      "metadata": {
        "colab": {
          "base_uri": "https://localhost:8080/"
        },
        "id": "UzFGv1xe1jRH",
        "outputId": "01cf2852-1c21-40e8-8b22-2a4cb758a9ac"
      },
      "execution_count": 69,
      "outputs": [
        {
          "output_type": "stream",
          "name": "stdout",
          "text": [
            "5\n",
            "uygun\n"
          ]
        }
      ]
    },
    {
      "cell_type": "code",
      "source": [
        "def asal_for(sayi):\n",
        "  asalmi=True\n",
        "  if sayi==1:\n",
        "    print(\"Asal değil\")\n",
        "  else:\n",
        "    for i in range(2,sayi):\n",
        "\n",
        "      if sayi%i==0:\n",
        "        asalmi=False\n",
        "        break\n",
        "    if asalmi==True:\n",
        "\n",
        "      print(\"asal sayı\")\n",
        "    else:\n",
        "      print(\"Asal sayı değil\")\n",
        "asal_for(10)\n"
      ],
      "metadata": {
        "colab": {
          "base_uri": "https://localhost:8080/"
        },
        "id": "hDEBgP6M8N0_",
        "outputId": "f0a2498d-0bbd-4df3-d517-b01bab3cb1b8"
      },
      "execution_count": 75,
      "outputs": [
        {
          "output_type": "stream",
          "name": "stdout",
          "text": [
            "Asal sayı değil\n"
          ]
        }
      ]
    },
    {
      "cell_type": "code",
      "source": [
        "def asal_while(sayi):\n",
        "\n",
        "  bolenler=0\n",
        "  i=1\n",
        "  while i<sayi+1:\n",
        "    if sayi%i==0:\n",
        "      bolenler+=1\n",
        "      if bolenler>2:\n",
        "        print(\"sayı asal değil\")\n",
        "        break\n",
        "    i+=1\n",
        "  if bolenler==2:\n",
        "    print(\"Sayı asaldır\")\n",
        "asal_while(53)\n",
        "\n"
      ],
      "metadata": {
        "colab": {
          "base_uri": "https://localhost:8080/"
        },
        "id": "hcyU-peZ8L-0",
        "outputId": "8cd5a7f2-f73c-40b5-d336-b42ab336ee53"
      },
      "execution_count": 99,
      "outputs": [
        {
          "output_type": "stream",
          "name": "stdout",
          "text": [
            "Sayı asaldır\n"
          ]
        }
      ]
    },
    {
      "cell_type": "code",
      "source": [
        "def fakt_for(sayi):\n",
        "  fakt=1\n",
        "  for i in range(1,sayi+1):\n",
        "    fakt*=i\n",
        "  print(fakt)\n",
        "fakt_for(7)\n",
        "\n"
      ],
      "metadata": {
        "colab": {
          "base_uri": "https://localhost:8080/"
        },
        "id": "ON-m6c1c8LNC",
        "outputId": "477642bc-a1a4-46ec-f05e-810ae0a506cd"
      },
      "execution_count": 86,
      "outputs": [
        {
          "output_type": "stream",
          "name": "stdout",
          "text": [
            "5040\n"
          ]
        }
      ]
    },
    {
      "cell_type": "code",
      "source": [
        "def fakt_while(sayi):\n",
        "  fakt=1\n",
        "  i=1\n",
        "  while i<sayi+1:\n",
        "    fakt*=i\n",
        "    i+=1\n",
        "  print(fakt)\n",
        "\n",
        "fakt_while(5)\n"
      ],
      "metadata": {
        "id": "aVa64cxU3yGV",
        "colab": {
          "base_uri": "https://localhost:8080/"
        },
        "outputId": "a25fca52-6c0c-4434-bc92-8c89950c7aa7"
      },
      "execution_count": 82,
      "outputs": [
        {
          "output_type": "stream",
          "name": "stdout",
          "text": [
            "120\n"
          ]
        }
      ]
    }
  ]
}