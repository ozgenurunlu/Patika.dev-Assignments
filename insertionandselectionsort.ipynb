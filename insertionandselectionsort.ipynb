{
  "nbformat": 4,
  "nbformat_minor": 0,
  "metadata": {
    "colab": {
      "provenance": [],
      "authorship_tag": "ABX9TyPHw9ynv9YAojKeJkDDqQtE",
      "include_colab_link": true
    },
    "kernelspec": {
      "name": "python3",
      "display_name": "Python 3"
    },
    "language_info": {
      "name": "python"
    }
  },
  "cells": [
    {
      "cell_type": "markdown",
      "metadata": {
        "id": "view-in-github",
        "colab_type": "text"
      },
      "source": [
        "<a href=\"https://colab.research.google.com/github/ozgenurunlu/Patika.dev-Assignments/blob/main/insertionandselectionsort.ipynb\" target=\"_parent\"><img src=\"https://colab.research.google.com/assets/colab-badge.svg\" alt=\"Open In Colab\"/></a>"
      ]
    },
    {
      "cell_type": "markdown",
      "source": [
        "#Project 1\n",
        "[22,27,16,2,18,6] ->\n",
        "1. Insertion Sort\n",
        "2. Big-O gösterimini yazınız.\n",
        "3. Time Complexity: Dizi sıralandıktan sonra 18 sayısı aşağıdaki case'lerden hangisinin kapsamına girer? Yazınız\n",
        "4. [7,3,5,8,2,9,4,15,6] dizisinin Selection Sort'a göre ilk 4 adımını yazınız.\n",
        "\n",
        "**1.SORU ÇÖZÜM**\n",
        "\n",
        "\n",
        "---\n",
        "\n",
        "\n",
        "[**22**, 27, 16, 2, 18, 6]\n",
        "\n",
        "**Adım 1:** İlk eleman 22 en küçük eleman kabul edilir çünkü kıyaslanacak başka eleman yok\n",
        "\n",
        "[**22, 27**, 16, 2, 18, 6] (değişiklik yok)\n",
        "\n",
        "**Adım 2:** 27 elemanı, 22'den büyük olduğu için indeks değişikliği olmaz.\n",
        "\n",
        "[**22, 27, 16**, 2, 18, 6] (değişiklik yok)\n",
        "\n",
        "**Adım 3:** 16 elemanı, 27'den küçük olduğu için 27'nin önüne, 22'den küçük olduğu için 22'nin önüne gelir. Yani, 16 en başa yerleşir.\n",
        "\n",
        "[**16, 22, 27, 2**, 18, 6]\n",
        "\n",
        "**Adım 4:** 2 elemanı, önce 27'den sonra 22'den, sonra 16'dan küçük olduğu için, 16,22 ve 27'nin önüne yerleşir.\n",
        "\n",
        "\n",
        "[**2, 16, 22, 27, 18**, 6]\n",
        "\n",
        "**Adım 5:**\n",
        "\n",
        "[**2, 16, 18, 22, 27, 6**]\n",
        "\n",
        "**Adım 6:** 6 elemanı, 27, 22, 18, 16, ve 2'den küçük olduğu için en başa yerleşir.\n",
        "\n",
        "**Sıralı Dizi**\n",
        "\n",
        "[2, 6, 16, 18, 22, 27]\n",
        "\n",
        "**2.SORU ÇÖZÜM**\n",
        "\n",
        "\n",
        "---\n",
        "\n",
        "\n",
        "\n",
        "Best case: Dizi zaten sıralıysa, her eleman yalnızca bir kez kontrol edilir, bu durumda O(n) olur.\n",
        "\n",
        "Worst case : Dizi tamamen ters sıralanmışsa, her eleman için her bir diğer elemanla karşılaştırma yapılır. Bu durumda O(n²) olur.\n",
        "\n",
        "Average case: Çoğu durumda, O(n²) kabul edilir.\n",
        "\n",
        "**3.SORU ÇÖZÜM**\n",
        "\n",
        "\n",
        "---\n",
        "\n",
        "\n",
        "18 sayısı, dizinin ortasında yer aldığından average case kapsamına girer.\n",
        "\n",
        "**4.SORU ÇÖZÜM**\n",
        "\n",
        "\n",
        "---\n",
        "\n",
        "\n",
        "**Adım 1**\n",
        "\n",
        "[**2**, 3, 5, 8, **7**, 9, 4, 15, 6]\n",
        "\n",
        "**Adım 2**\n",
        "\n",
        "[2, **3**, 5, 8, 7, 9, 4, 15, 6]\n",
        "\n",
        "3 sağındaki tüm elemanlarla kıyaslandı, en küçük eleman olduğundan yerinde kaldı\n",
        "\n",
        "**Adım 3**\n",
        "\n",
        "[2, 3, **4**, 8, 7, 9, **5**, 15, 6]\n",
        "\n",
        "**Adım 4**\n",
        "\n",
        "[2, 3, 4, **5**, 7, 9, **8**, 15, 6]\n",
        "\n",
        "\n",
        "\n"
      ],
      "metadata": {
        "id": "4ep8o-7Z2-KU"
      }
    }
  ]
}